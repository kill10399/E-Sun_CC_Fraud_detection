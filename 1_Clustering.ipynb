{
 "cells": [
  {
   "cell_type": "code",
   "execution_count": 26,
   "metadata": {},
   "outputs": [],
   "source": [
    "# import data, N(number of observation), N_f(number of features)\n",
    "from _data import train_raw, N, N_f"
   ]
  },
  {
   "cell_type": "code",
   "execution_count": 6,
   "metadata": {},
   "outputs": [],
   "source": [
    "import pandas as pd\n",
    "import numpy as np\n",
    "import matplotlib.pyplot as plt\n",
    "import warnings\n",
    "import json\n",
    "warnings.filterwarnings(\"ignore\")"
   ]
  },
  {
   "cell_type": "markdown",
   "metadata": {},
   "source": [
    "## some ideas:\n",
    "- create new cols store information by acct\n",
    "- clustering the acct by avg_txn_amt, avg_month_amt, types of spending type, acc_code.....\n",
    "\n",
    "#### even more ideas: \n",
    "- fit a dist model of txn time, txn number for every group --> give every txn a probability.\n",
    "- try use one-class SVM (for novelty detection) see <a href=\"http://papers.nips.cc/paper/1723-support-vector-method-for-novelty-detection.pdf\" > paper </a> for explain and exmple"
   ]
  },
  {
   "cell_type": "markdown",
   "metadata": {},
   "source": [
    "### compute attribute by acct"
   ]
  },
  {
   "cell_type": "code",
   "execution_count": 2,
   "metadata": {},
   "outputs": [],
   "source": [
    "# compute unique value for each featue\n",
    "def count_unique(df):\n",
    "    unique_dict = {}\n",
    "    for i in df.columns:\n",
    "        uni_val = df[i].unique()\n",
    "        unique_dict[i]=(len(uni_val), uni_val)\n",
    "        unique_dict[i][1].sort()\n",
    "    return unique_dict\n",
    "#unique_dict = count_unique(train_raw)"
   ]
  },
  {
   "cell_type": "code",
   "execution_count": 31,
   "metadata": {},
   "outputs": [],
   "source": [
    "train_raw.replace(np.NaN, -1, inplace = True)"
   ]
  },
  {
   "cell_type": "code",
   "execution_count": 6,
   "metadata": {},
   "outputs": [
    {
     "data": {
      "text/html": [
       "<div>\n",
       "<style>\n",
       "    .dataframe thead tr:only-child th {\n",
       "        text-align: right;\n",
       "    }\n",
       "\n",
       "    .dataframe thead th {\n",
       "        text-align: left;\n",
       "    }\n",
       "\n",
       "    .dataframe tbody tr th {\n",
       "        vertical-align: top;\n",
       "    }\n",
       "</style>\n",
       "<table border=\"1\" class=\"dataframe\">\n",
       "  <thead>\n",
       "    <tr style=\"text-align: right;\">\n",
       "      <th></th>\n",
       "      <th>tx_amt_avg</th>\n",
       "      <th>tx_cnt</th>\n",
       "      <th>ecfg_count</th>\n",
       "      <th>flbmk_count</th>\n",
       "      <th>flg_3dsmk_count</th>\n",
       "      <th>insfg_count</th>\n",
       "      <th>ovrlt_count</th>\n",
       "      <th>stscd_0</th>\n",
       "      <th>stscd_1</th>\n",
       "      <th>stscd_2</th>\n",
       "      <th>stscd_3</th>\n",
       "      <th>stscd_4</th>\n",
       "    </tr>\n",
       "  </thead>\n",
       "  <tbody>\n",
       "    <tr>\n",
       "      <th>count</th>\n",
       "      <td>95214.000000</td>\n",
       "      <td>95214.000000</td>\n",
       "      <td>95214.000000</td>\n",
       "      <td>95214.000000</td>\n",
       "      <td>95214.000000</td>\n",
       "      <td>95214.000000</td>\n",
       "      <td>95214.000000</td>\n",
       "      <td>95214.000000</td>\n",
       "      <td>95214.000000</td>\n",
       "      <td>95214.000000</td>\n",
       "      <td>95214.000000</td>\n",
       "      <td>95214.000000</td>\n",
       "    </tr>\n",
       "    <tr>\n",
       "      <th>mean</th>\n",
       "      <td>732.571089</td>\n",
       "      <td>15.982807</td>\n",
       "      <td>4.067417</td>\n",
       "      <td>0.053280</td>\n",
       "      <td>0.675730</td>\n",
       "      <td>0.444388</td>\n",
       "      <td>0.212689</td>\n",
       "      <td>15.782816</td>\n",
       "      <td>0.004285</td>\n",
       "      <td>0.194362</td>\n",
       "      <td>0.001134</td>\n",
       "      <td>0.000210</td>\n",
       "    </tr>\n",
       "    <tr>\n",
       "      <th>std</th>\n",
       "      <td>338.143649</td>\n",
       "      <td>21.017744</td>\n",
       "      <td>10.538025</td>\n",
       "      <td>0.336961</td>\n",
       "      <td>2.417233</td>\n",
       "      <td>2.196183</td>\n",
       "      <td>2.001265</td>\n",
       "      <td>20.658418</td>\n",
       "      <td>0.194617</td>\n",
       "      <td>1.786932</td>\n",
       "      <td>0.042734</td>\n",
       "      <td>0.025102</td>\n",
       "    </tr>\n",
       "    <tr>\n",
       "      <th>min</th>\n",
       "      <td>0.000000</td>\n",
       "      <td>1.000000</td>\n",
       "      <td>0.000000</td>\n",
       "      <td>0.000000</td>\n",
       "      <td>0.000000</td>\n",
       "      <td>0.000000</td>\n",
       "      <td>0.000000</td>\n",
       "      <td>0.000000</td>\n",
       "      <td>0.000000</td>\n",
       "      <td>0.000000</td>\n",
       "      <td>0.000000</td>\n",
       "      <td>0.000000</td>\n",
       "    </tr>\n",
       "    <tr>\n",
       "      <th>25%</th>\n",
       "      <td>537.374600</td>\n",
       "      <td>4.000000</td>\n",
       "      <td>0.000000</td>\n",
       "      <td>0.000000</td>\n",
       "      <td>0.000000</td>\n",
       "      <td>0.000000</td>\n",
       "      <td>0.000000</td>\n",
       "      <td>4.000000</td>\n",
       "      <td>0.000000</td>\n",
       "      <td>0.000000</td>\n",
       "      <td>0.000000</td>\n",
       "      <td>0.000000</td>\n",
       "    </tr>\n",
       "    <tr>\n",
       "      <th>50%</th>\n",
       "      <td>671.962735</td>\n",
       "      <td>9.000000</td>\n",
       "      <td>1.000000</td>\n",
       "      <td>0.000000</td>\n",
       "      <td>0.000000</td>\n",
       "      <td>0.000000</td>\n",
       "      <td>0.000000</td>\n",
       "      <td>9.000000</td>\n",
       "      <td>0.000000</td>\n",
       "      <td>0.000000</td>\n",
       "      <td>0.000000</td>\n",
       "      <td>0.000000</td>\n",
       "    </tr>\n",
       "    <tr>\n",
       "      <th>75%</th>\n",
       "      <td>837.602885</td>\n",
       "      <td>20.000000</td>\n",
       "      <td>4.000000</td>\n",
       "      <td>0.000000</td>\n",
       "      <td>0.000000</td>\n",
       "      <td>0.000000</td>\n",
       "      <td>0.000000</td>\n",
       "      <td>20.000000</td>\n",
       "      <td>0.000000</td>\n",
       "      <td>0.000000</td>\n",
       "      <td>0.000000</td>\n",
       "      <td>0.000000</td>\n",
       "    </tr>\n",
       "    <tr>\n",
       "      <th>max</th>\n",
       "      <td>6728.970000</td>\n",
       "      <td>1117.000000</td>\n",
       "      <td>406.000000</td>\n",
       "      <td>17.000000</td>\n",
       "      <td>147.000000</td>\n",
       "      <td>373.000000</td>\n",
       "      <td>169.000000</td>\n",
       "      <td>1117.000000</td>\n",
       "      <td>29.000000</td>\n",
       "      <td>124.000000</td>\n",
       "      <td>3.000000</td>\n",
       "      <td>6.000000</td>\n",
       "    </tr>\n",
       "  </tbody>\n",
       "</table>\n",
       "</div>"
      ],
      "text/plain": [
       "         tx_amt_avg        tx_cnt    ecfg_count   flbmk_count  \\\n",
       "count  95214.000000  95214.000000  95214.000000  95214.000000   \n",
       "mean     732.571089     15.982807      4.067417      0.053280   \n",
       "std      338.143649     21.017744     10.538025      0.336961   \n",
       "min        0.000000      1.000000      0.000000      0.000000   \n",
       "25%      537.374600      4.000000      0.000000      0.000000   \n",
       "50%      671.962735      9.000000      1.000000      0.000000   \n",
       "75%      837.602885     20.000000      4.000000      0.000000   \n",
       "max     6728.970000   1117.000000    406.000000     17.000000   \n",
       "\n",
       "       flg_3dsmk_count   insfg_count   ovrlt_count       stscd_0  \\\n",
       "count     95214.000000  95214.000000  95214.000000  95214.000000   \n",
       "mean          0.675730      0.444388      0.212689     15.782816   \n",
       "std           2.417233      2.196183      2.001265     20.658418   \n",
       "min           0.000000      0.000000      0.000000      0.000000   \n",
       "25%           0.000000      0.000000      0.000000      4.000000   \n",
       "50%           0.000000      0.000000      0.000000      9.000000   \n",
       "75%           0.000000      0.000000      0.000000     20.000000   \n",
       "max         147.000000    373.000000    169.000000   1117.000000   \n",
       "\n",
       "            stscd_1       stscd_2       stscd_3       stscd_4  \n",
       "count  95214.000000  95214.000000  95214.000000  95214.000000  \n",
       "mean       0.004285      0.194362      0.001134      0.000210  \n",
       "std        0.194617      1.786932      0.042734      0.025102  \n",
       "min        0.000000      0.000000      0.000000      0.000000  \n",
       "25%        0.000000      0.000000      0.000000      0.000000  \n",
       "50%        0.000000      0.000000      0.000000      0.000000  \n",
       "75%        0.000000      0.000000      0.000000      0.000000  \n",
       "max       29.000000    124.000000      3.000000      6.000000  "
      ]
     },
     "execution_count": 6,
     "metadata": {},
     "output_type": "execute_result"
    }
   ],
   "source": [
    "# count stscd_type for each acct\n",
    "stscd_pvt = train_raw.pivot_table(index = ['bacno'], columns=['stscd'],values='conam',aggfunc='count')\n",
    "stscd_pvt.replace(np.NAN, 0,inplace = True)\n",
    "col_nm_stscd = ['stscd_'+str(i) for i in range(5) ]\n",
    "stscd_pvt.columns = col_nm_stscd\n",
    "\n",
    "by_txn = pd.concat([by_txn, stscd_pvt], axis=1)\n",
    "by_txn.describe()"
   ]
  },
  {
   "cell_type": "markdown",
   "metadata": {},
   "source": [
    "### compute attribute by cano"
   ]
  },
  {
   "cell_type": "code",
   "execution_count": null,
   "metadata": {},
   "outputs": [],
   "source": []
  },
  {
   "cell_type": "markdown",
   "metadata": {},
   "source": [
    "### clustering\n",
    "    try to cluster accts into groups"
   ]
  },
  {
   "cell_type": "markdown",
   "metadata": {},
   "source": [
    "#### 1. k-means\n",
    "- result : 5 or 6 groups is good\n"
   ]
  },
  {
   "cell_type": "code",
   "execution_count": 12,
   "metadata": {},
   "outputs": [
    {
     "data": {
      "text/plain": [
       "[<matplotlib.lines.Line2D at 0x11f55e390>]"
      ]
     },
     "execution_count": 12,
     "metadata": {},
     "output_type": "execute_result"
    },
    {
     "data": {
      "image/png": "[encoded data removed]",
      "text/plain": [
       "<Figure size 432x288 with 1 Axes>"
      ]
     },
     "metadata": {},
     "output_type": "display_data"
    }
   ],
   "source": [
    "# K-means\n",
    "from sklearn import cluster\n",
    "inertia_record = []\n",
    "\n",
    "X = by_txn\n",
    "for n in range(1,10):\n",
    "    k_means = cluster.KMeans(n_clusters=n)\n",
    "    k_means.fit(X) \n",
    "    inertia_record.append(k_means.inertia_)\n",
    "\n",
    "plt.plot([i for i in range(1,10)],inertia_record)\n"
   ]
  },
  {
   "cell_type": "markdown",
   "metadata": {},
   "source": [
    "#### 2. novelty/outlier detection model"
   ]
  },
  {
   "cell_type": "markdown",
   "metadata": {},
   "source": [
    "- one-class SMV\n",
    "    \n",
    "    > Hmm..... <br/>\n",
    "    > not doing well"
   ]
  },
  {
   "cell_type": "code",
   "execution_count": 241,
   "metadata": {},
   "outputs": [],
   "source": [
    "# select wanted fearture and paramater\n",
    "elements_col = np.setdiff1d(train_raw.columns.values, ['cano','bacno','fraud_ind','txkey'])\n",
    "label_col = 'fraud_ind'\n",
    "all_col = np.append(elements_col,label_col)\n",
    "sample_fraction = 50"
   ]
  },
  {
   "cell_type": "code",
   "execution_count": 221,
   "metadata": {},
   "outputs": [],
   "source": [
    "from sklearn.svm import OneClassSVM\n",
    "sample_data = train_raw[all_col].sample((round(N/sample_fraction)))\n",
    "train_x = sample_data[elements_col]\n",
    "train_y = sample_data[label_col]\n",
    "train_x.replace(np.NAN, 0,inplace = True)"
   ]
  },
  {
   "cell_type": "code",
   "execution_count": 14,
   "metadata": {},
   "outputs": [
    {
     "data": {
      "text/plain": [
       "{'rbf': (array([-1, -1, -1, ...,  1,  1,  1]), 14121, 1097)}"
      ]
     },
     "execution_count": 14,
     "metadata": {},
     "output_type": "execute_result"
    }
   ],
   "source": [
    "# compare model\n",
    "kernel_options = ['rbf', 'sigmoid','poly']\n",
    "kernel_options = [kernel_options[0]]\n",
    "fun_compare = {}\n",
    "for ko in kernel_options:\n",
    "    clf = OneClassSVM(degree = 3, kernel=ko, gamma='auto', nu=20355/1501432).fit(train_x)\n",
    "    pred = clf.predict(train_x)\n",
    "    fun_compare[ko]=(pred, len(np.where(pred==1)[0]),len(np.where(pred==-1)[0]))\n",
    "fun_compare"
   ]
  },
  {
   "cell_type": "code",
   "execution_count": 78,
   "metadata": {},
   "outputs": [],
   "source": [
    "def model_evl(pred, label):\n",
    "    if len(pred)!=len(label):\n",
    "        raise Exception('length not equal, plz chk, pred:%s, label: %s'%(len(pred), len(label)))\n",
    "    evl = {}\n",
    "    if sorted(np.unique(pred)) == [-1,1]:\n",
    "        pred[pred==-1]=0\n",
    "    a = pd.concat([pd.Series(pred, name='pred'), label.reset_index()['fraud_ind']],axis=1)\n",
    "    #evl['ACC'] = sum(a['pred']==a['fraud_ind'])/len(pred) # accuracy\n",
    "    evl['TP'] = sum((a['pred']==1) & (a['fraud_ind'] ==0)) # inlier & non-fraud\n",
    "    evl['TN'] = sum((a['pred']==0) & (a['fraud_ind'] ==1)) # outlier & fraud\n",
    "    evl['MS'] = sum((a['pred']==1) & (a['fraud_ind'] ==1)) # inlier & fraud\n",
    "    evl['FA'] = sum((a['pred']==0) & (a['fraud_ind'] ==0)) # outlier & non-fraud\n",
    "    evl['ACC'] = (evl['TP']+evl['TN'])/len(pred)\n",
    "    return evl\n",
    "\n",
    "def cal_f1(evl):\n",
    "    precision = evl['TN']/(evl['TN']+evl['FA'])\n",
    "    recall = evl['TN']/(evl['TN']+evl['MS'])\n",
    "    F_1 = 2*(precision*recall/(precision+recall))\n",
    "    return F_1"
   ]
  },
  {
   "cell_type": "code",
   "execution_count": 16,
   "metadata": {},
   "outputs": [
    {
     "ename": "NameError",
     "evalue": "name 'kernel_options' is not defined",
     "output_type": "error",
     "traceback": [
      "\u001b[0;31m---------------------------------------------------------------------------\u001b[0m",
      "\u001b[0;31mNameError\u001b[0m                                 Traceback (most recent call last)",
      "\u001b[0;32m<ipython-input-16-c1f2de09a4e4>\u001b[0m in \u001b[0;36m<module>\u001b[0;34m()\u001b[0m\n\u001b[0;32m----> 1\u001b[0;31m \u001b[0;32mfor\u001b[0m \u001b[0mf\u001b[0m \u001b[0;32min\u001b[0m \u001b[0mkernel_options\u001b[0m\u001b[0;34m:\u001b[0m\u001b[0;34m\u001b[0m\u001b[0m\n\u001b[0m\u001b[1;32m      2\u001b[0m     \u001b[0mevl_f\u001b[0m \u001b[0;34m=\u001b[0m \u001b[0mmodel_evl\u001b[0m\u001b[0;34m(\u001b[0m\u001b[0mfun_compare\u001b[0m\u001b[0;34m[\u001b[0m\u001b[0mf\u001b[0m\u001b[0;34m]\u001b[0m\u001b[0;34m[\u001b[0m\u001b[0;36m0\u001b[0m\u001b[0;34m]\u001b[0m\u001b[0;34m,\u001b[0m \u001b[0mtrain_y\u001b[0m\u001b[0;34m)\u001b[0m\u001b[0;34m\u001b[0m\u001b[0m\n\u001b[1;32m      3\u001b[0m     \u001b[0mprint\u001b[0m\u001b[0;34m(\u001b[0m\u001b[0mf\u001b[0m\u001b[0;34m,\u001b[0m\u001b[0;34m':'\u001b[0m\u001b[0;34m,\u001b[0m \u001b[0mevl_f\u001b[0m\u001b[0;34m)\u001b[0m\u001b[0;34m\u001b[0m\u001b[0m\n\u001b[1;32m      4\u001b[0m \u001b[0;34m\u001b[0m\u001b[0m\n",
      "\u001b[0;31mNameError\u001b[0m: name 'kernel_options' is not defined"
     ]
    }
   ],
   "source": [
    "for f in kernel_options:\n",
    "    evl_f = model_evl(fun_compare[f][0], train_y)\n",
    "    print(f,':', evl_f)\n",
    "    "
   ]
  },
  {
   "cell_type": "markdown",
   "metadata": {},
   "source": [
    "----"
   ]
  },
  {
   "cell_type": "markdown",
   "metadata": {},
   "source": [
    "- isolation forest\n",
    "\n",
    "> better, but not good enough"
   ]
  },
  {
   "cell_type": "code",
   "execution_count": 242,
   "metadata": {},
   "outputs": [
    {
     "name": "stdout",
     "output_type": "stream",
     "text": [
      "para: 0 {'TP': 29713, 'TN': 75, 'MS': 324, 'FA': 324, 'ACC': 0.9787094230516493} F1:  0.18796992481203006\n"
     ]
    }
   ],
   "source": [
    "#try isolation forest\n",
    "from sklearn.ensemble import IsolationForest\n",
    "error_fraction = sum(train_y)/len(train_x)\n",
    "tracking=[]\n",
    "for i in range(1):\n",
    "    clf = IsolationForest(bootstrap=True,  max_samples=200,\n",
    "                          max_features=2, contamination=error_fraction, n_estimators=500)\n",
    "    clf.fit(train_x)\n",
    "    pred = clf.predict(train_x)\n",
    "    evl = model_evl(pred,train_y)\n",
    "    F_1 = cal_f1(evl)\n",
    "    print('para: %s'%i, evl ,'F1: ',F_1)\n",
    "    tracking.append(pred)"
   ]
  },
  {
   "cell_type": "code",
   "execution_count": 243,
   "metadata": {},
   "outputs": [
    {
     "name": "stdout",
     "output_type": "stream",
     "text": [
      "0.18796992481203006 0.18796992481203006\n"
     ]
    }
   ],
   "source": [
    "precision=evl['TN']/(evl['TN']+evl['FA'])\n",
    "recall=evl['TN']/(evl['TN']+evl['MS'])\n",
    "#(precision*recall)/(precision+recall)\n",
    "print(recall, precision)"
   ]
  },
  {
   "cell_type": "markdown",
   "metadata": {},
   "source": [
    "### Some ingisght :\n",
    "- the novelty/outlier detection seem not work very well on fraud data"
   ]
  },
  {
   "cell_type": "markdown",
   "metadata": {},
   "source": [
    "## try SVM"
   ]
  },
  {
   "cell_type": "markdown",
   "metadata": {},
   "source": [
    "## Try MCA\n",
    "MCA: Mutiple Correspondance Analysis"
   ]
  },
  {
   "cell_type": "code",
   "execution_count": 4,
   "metadata": {},
   "outputs": [],
   "source": [
    "import json\n",
    "\n",
    "with open(\"feature_map.json\",encoding='utf-8') as json_data:\n",
    "     f_m = json.load(json_data)"
   ]
  },
  {
   "cell_type": "code",
   "execution_count": 7,
   "metadata": {},
   "outputs": [],
   "source": [
    "import pandas as pd \n",
    "import prince\n",
    "\n",
    "exclude = ['bacno', 'txkey','locdt','loctm', 'cano','conam','mchno','acqic','scity','fraud_ind','mcc']\n"
   ]
  },
  {
   "cell_type": "code",
   "execution_count": 13,
   "metadata": {},
   "outputs": [],
   "source": [
    "X = train_raw.drop(exclude, axis=1).replace(np.NAN, -1)"
   ]
  },
  {
   "cell_type": "code",
   "execution_count": 14,
   "metadata": {},
   "outputs": [
    {
     "data": {
      "text/html": [
       "<div>\n",
       "<style scoped>\n",
       "    .dataframe tbody tr th:only-of-type {\n",
       "        vertical-align: middle;\n",
       "    }\n",
       "\n",
       "    .dataframe tbody tr th {\n",
       "        vertical-align: top;\n",
       "    }\n",
       "\n",
       "    .dataframe thead th {\n",
       "        text-align: right;\n",
       "    }\n",
       "</style>\n",
       "<table border=\"1\" class=\"dataframe\">\n",
       "  <thead>\n",
       "    <tr style=\"text-align: right;\">\n",
       "      <th></th>\n",
       "      <th>contp</th>\n",
       "      <th>csmcu</th>\n",
       "      <th>ecfg</th>\n",
       "      <th>etymd</th>\n",
       "      <th>flbmk</th>\n",
       "      <th>flg_3dsmk</th>\n",
       "      <th>hcefg</th>\n",
       "      <th>insfg</th>\n",
       "      <th>iterm</th>\n",
       "      <th>ovrlt</th>\n",
       "      <th>stocn</th>\n",
       "      <th>stscd</th>\n",
       "    </tr>\n",
       "  </thead>\n",
       "  <tbody>\n",
       "    <tr>\n",
       "      <td>0</td>\n",
       "      <td>5</td>\n",
       "      <td>0</td>\n",
       "      <td>0</td>\n",
       "      <td>0</td>\n",
       "      <td>0.0</td>\n",
       "      <td>0.0</td>\n",
       "      <td>5</td>\n",
       "      <td>0</td>\n",
       "      <td>0</td>\n",
       "      <td>0</td>\n",
       "      <td>102</td>\n",
       "      <td>0</td>\n",
       "    </tr>\n",
       "    <tr>\n",
       "      <td>1</td>\n",
       "      <td>5</td>\n",
       "      <td>0</td>\n",
       "      <td>0</td>\n",
       "      <td>2</td>\n",
       "      <td>0.0</td>\n",
       "      <td>0.0</td>\n",
       "      <td>0</td>\n",
       "      <td>0</td>\n",
       "      <td>0</td>\n",
       "      <td>0</td>\n",
       "      <td>102</td>\n",
       "      <td>0</td>\n",
       "    </tr>\n",
       "    <tr>\n",
       "      <td>2</td>\n",
       "      <td>5</td>\n",
       "      <td>0</td>\n",
       "      <td>0</td>\n",
       "      <td>0</td>\n",
       "      <td>0.0</td>\n",
       "      <td>0.0</td>\n",
       "      <td>5</td>\n",
       "      <td>0</td>\n",
       "      <td>0</td>\n",
       "      <td>0</td>\n",
       "      <td>102</td>\n",
       "      <td>0</td>\n",
       "    </tr>\n",
       "    <tr>\n",
       "      <td>3</td>\n",
       "      <td>5</td>\n",
       "      <td>62</td>\n",
       "      <td>0</td>\n",
       "      <td>5</td>\n",
       "      <td>0.0</td>\n",
       "      <td>0.0</td>\n",
       "      <td>5</td>\n",
       "      <td>0</td>\n",
       "      <td>0</td>\n",
       "      <td>0</td>\n",
       "      <td>102</td>\n",
       "      <td>0</td>\n",
       "    </tr>\n",
       "    <tr>\n",
       "      <td>4</td>\n",
       "      <td>5</td>\n",
       "      <td>62</td>\n",
       "      <td>0</td>\n",
       "      <td>4</td>\n",
       "      <td>0.0</td>\n",
       "      <td>0.0</td>\n",
       "      <td>5</td>\n",
       "      <td>0</td>\n",
       "      <td>0</td>\n",
       "      <td>0</td>\n",
       "      <td>102</td>\n",
       "      <td>0</td>\n",
       "    </tr>\n",
       "  </tbody>\n",
       "</table>\n",
       "</div>"
      ],
      "text/plain": [
       "   contp  csmcu  ecfg  etymd  flbmk  flg_3dsmk  hcefg  insfg  iterm  ovrlt  \\\n",
       "0      5      0     0      0    0.0        0.0      5      0      0      0   \n",
       "1      5      0     0      2    0.0        0.0      0      0      0      0   \n",
       "2      5      0     0      0    0.0        0.0      5      0      0      0   \n",
       "3      5     62     0      5    0.0        0.0      5      0      0      0   \n",
       "4      5     62     0      4    0.0        0.0      5      0      0      0   \n",
       "\n",
       "   stocn  stscd  \n",
       "0    102      0  \n",
       "1    102      0  \n",
       "2    102      0  \n",
       "3    102      0  \n",
       "4    102      0  "
      ]
     },
     "execution_count": 14,
     "metadata": {},
     "output_type": "execute_result"
    }
   ],
   "source": [
    "X.head()"
   ]
  },
  {
   "cell_type": "code",
   "execution_count": 15,
   "metadata": {},
   "outputs": [],
   "source": [
    "mca = prince.MCA(n_components=12)"
   ]
  },
  {
   "cell_type": "code",
   "execution_count": 16,
   "metadata": {},
   "outputs": [],
   "source": [
    "mca = mca.fit(X) "
   ]
  },
  {
   "cell_type": "code",
   "execution_count": 17,
   "metadata": {},
   "outputs": [],
   "source": [
    "mca_proj = mca.transform(X)"
   ]
  },
  {
   "cell_type": "code",
   "execution_count": 19,
   "metadata": {},
   "outputs": [
    {
     "data": {
      "text/plain": [
       "[0.15043486837596173,\n",
       " 0.09931718572111556,\n",
       " 0.0802905044169569,\n",
       " 0.07607187837248745,\n",
       " 0.07519486896401834,\n",
       " 0.07446871728383699,\n",
       " 0.07444327478254771,\n",
       " 0.07435919253983751,\n",
       " 0.07427786256556104,\n",
       " 0.07393946605410591,\n",
       " 0.07366439619158895,\n",
       " 0.07353778473198173]"
      ]
     },
     "execution_count": 19,
     "metadata": {},
     "output_type": "execute_result"
    }
   ],
   "source": [
    "[i/sum(mca.eigenvalues_) for i in mca.eigenvalues_]"
   ]
  },
  {
   "cell_type": "code",
   "execution_count": 21,
   "metadata": {},
   "outputs": [
    {
     "data": {
      "text/plain": [
       "0.7788583530223232"
      ]
     },
     "execution_count": 21,
     "metadata": {},
     "output_type": "execute_result"
    }
   ],
   "source": [
    "sum([i / sum(mca.eigenvalues_) for i in mca.eigenvalues_][0:9])"
   ]
  },
  {
   "cell_type": "code",
   "execution_count": 22,
   "metadata": {},
   "outputs": [
    {
     "name": "stdout",
     "output_type": "stream",
     "text": [
      "                0         1         2         3         4         5         6  \\\n",
      "0       -0.090854 -0.604115 -0.493843  0.313076  0.019741 -0.038789 -0.001491   \n",
      "1       -0.083835 -0.571963 -0.594150  0.370798 -0.108552 -0.039860 -0.001434   \n",
      "2       -0.090854 -0.604115 -0.493843  0.313076  0.019741 -0.038789 -0.001491   \n",
      "3       -0.086315 -0.219788  0.099089 -0.036238  0.052625  0.014221 -0.004180   \n",
      "4       -0.083417 -0.200314  0.137654 -0.061296  0.043699  0.010257  0.005327   \n",
      "...           ...       ...       ...       ...       ...       ...       ...   \n",
      "1521782  6.358206 -0.217117  0.044128 -0.010628 -0.002556  0.001521  0.001264   \n",
      "1521783  6.358206 -0.217117  0.044128 -0.010628 -0.002556  0.001521  0.001264   \n",
      "1521784  6.358206 -0.217117  0.044128 -0.010628 -0.002556  0.001521  0.001264   \n",
      "1521785  6.312609 -0.457595  0.033491 -0.035582 -0.024900  0.000987 -0.006874   \n",
      "1521786  6.235643 -0.907579  0.110331 -0.140395  0.037742  0.013852 -0.011776   \n",
      "\n",
      "                7         8         9        10        11  \n",
      "0        0.009703 -0.033744  0.060198 -0.104854 -0.101465  \n",
      "1        0.015782 -0.034029  0.095581 -0.117421 -0.126405  \n",
      "2        0.009703 -0.033744  0.060198 -0.104854 -0.101465  \n",
      "3       -0.003448  0.015110 -0.020175  0.027647  0.051570  \n",
      "4       -0.002693 -0.001991 -0.018754  0.024426  0.034460  \n",
      "...           ...       ...       ...       ...       ...  \n",
      "1521782  0.001737 -0.001368  0.000789  0.001241  0.011863  \n",
      "1521783  0.001737 -0.001368  0.000789  0.001241  0.011863  \n",
      "1521784  0.001737 -0.001368  0.000789  0.001241  0.011863  \n",
      "1521785  0.001070  0.018614  0.011346  0.005248 -0.006476  \n",
      "1521786 -0.000138  0.032116 -0.015424  0.034807  0.037054  \n",
      "\n",
      "[1521787 rows x 12 columns]\n"
     ]
    }
   ],
   "source": [
    "print(mca_proj)"
   ]
  },
  {
   "cell_type": "code",
   "execution_count": 24,
   "metadata": {},
   "outputs": [
    {
     "data": {
      "image/png": "[encoded data removed]",
      "text/plain": [
       "<Figure size 864x864 with 1 Axes>"
      ]
     },
     "metadata": {},
     "output_type": "display_data"
    }
   ],
   "source": [
    "ax = mca.plot_coordinates(X,ax=None,figsize=(12, 12),x_component=1,y_component=2,show_row_points=False)"
   ]
  },
  {
   "cell_type": "code",
   "execution_count": 25,
   "metadata": {},
   "outputs": [],
   "source": [
    "import csv\n",
    "b = mca_proj\n",
    "mca_proj.to_csv('train_mca_out.csv')"
   ]
  },
  {
   "cell_type": "code",
   "execution_count": 57,
   "metadata": {},
   "outputs": [],
   "source": []
  },
  {
   "cell_type": "code",
   "execution_count": 60,
   "metadata": {},
   "outputs": [],
   "source": []
  },
  {
   "cell_type": "code",
   "execution_count": 90,
   "metadata": {},
   "outputs": [
    {
     "name": "stdout",
     "output_type": "stream",
     "text": [
      "bacno歸戶帳號:95214\n",
      "txkey交易序號:1521787\n",
      "locdt授權日期:90\n",
      "loctm授權時間:84810\n",
      "cano交易卡號:129413\n",
      "contp交易類別:7\n",
      "etymd交易型態:11\n",
      "mchno特店代號:89316\n",
      "acqic收單行代碼:6051\n",
      "mccMCC_CODE:434\n",
      "conam交易金額-台幣 (經過轉換):72961\n",
      "ecfg網路交易註記:2\n",
      "insfg分期交易註記:2\n",
      "iterm分期期數:9\n",
      "stocn消費地國別:103\n",
      "scity消費城市:5698\n",
      "stscd狀態碼:5\n",
      "ovrlt超額註記碼:2\n",
      "flbmkFallback 註記:3\n",
      "hcefg支付形態:9\n",
      "csmcu消費地幣別:72\n",
      "flg_3dsmk3DS 交易註記:3\n",
      "fraud_ind盜刷註記:2\n"
     ]
    }
   ],
   "source": [
    "for k in f_m:\n",
    "    print(\"%s %s:%s\"%(k,f_m[k]['name'], f_m[k][\"distinct\"]['count']))"
   ]
  },
  {
   "cell_type": "markdown",
   "metadata": {},
   "source": [
    "do k-means first\n",
    "> mchno:89316\n",
    "\n",
    ">  acqic:6051\n",
    "\n",
    ">  scity:5698\n",
    "\n",
    ">  mcc:434"
   ]
  },
  {
   "cell_type": "code",
   "execution_count": 1,
   "metadata": {},
   "outputs": [
    {
     "ename": "NameError",
     "evalue": "name 'f_m' is not defined",
     "output_type": "error",
     "traceback": [
      "\u001b[0;31m---------------------------------------------------------------------------\u001b[0m",
      "\u001b[0;31mNameError\u001b[0m                                 Traceback (most recent call last)",
      "\u001b[0;32m<ipython-input-1-50578c688b8e>\u001b[0m in \u001b[0;36m<module>\u001b[0;34m()\u001b[0m\n\u001b[0;32m----> 1\u001b[0;31m \u001b[0mf_m\u001b[0m\u001b[0;34m\u001b[0m\u001b[0m\n\u001b[0m",
      "\u001b[0;31mNameError\u001b[0m: name 'f_m' is not defined"
     ]
    }
   ],
   "source": [
    "f_m"
   ]
  },
  {
   "cell_type": "code",
   "execution_count": null,
   "metadata": {},
   "outputs": [],
   "source": []
  }
 ],
 "metadata": {
  "kernelspec": {
   "display_name": "Python 3",
   "language": "python",
   "name": "python3"
  },
  "language_info": {
   "codemirror_mode": {
    "name": "ipython",
    "version": 3
   },
   "file_extension": ".py",
   "mimetype": "text/x-python",
   "name": "python",
   "nbconvert_exporter": "python",
   "pygments_lexer": "ipython3",
   "version": "3.6.1"
  }
 },
 "nbformat": 4,
 "nbformat_minor": 2
}
