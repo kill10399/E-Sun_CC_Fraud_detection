{
 "cells": [
  {
   "cell_type": "markdown",
   "metadata": {},
   "source": [
    "## Try Boosting"
   ]
  },
  {
   "cell_type": "markdown",
   "metadata": {},
   "source": [
    "# 1. xgboost"
   ]
  },
  {
   "cell_type": "code",
   "execution_count": 1,
   "metadata": {},
   "outputs": [
    {
     "name": "stderr",
     "output_type": "stream",
     "text": [
      "/Users/kimdom/Documents/project/E-Sun_CC_Fraud_detection/_data.py:35: RuntimeWarning: divide by zero encountered in true_divide\n",
      "  ratio = list(map(lambda x: 0 if x == np.Inf else x,(para_f[0]/para_nf[0])))+[0]\n",
      "/Users/kimdom/Documents/project/E-Sun_CC_Fraud_detection/_data.py:35: RuntimeWarning: invalid value encountered in true_divide\n",
      "  ratio = list(map(lambda x: 0 if x == np.Inf else x,(para_f[0]/para_nf[0])))+[0]\n"
     ]
    }
   ],
   "source": [
    "# import data, N(number of observation), N_f(number of features) & functions features\n",
    "from _data import *"
   ]
  },
  {
   "cell_type": "code",
   "execution_count": 2,
   "metadata": {},
   "outputs": [],
   "source": [
    "%matplotlib inline\n",
    "import numpy as np\n",
    "import xgboost as xgb\n",
    "from xgboost import XGBClassifier\n",
    "from sklearn.model_selection import train_test_split\n",
    "from sklearn.preprocessing import OneHotEncoder\n",
    "from sklearn.model_selection import KFold\n",
    "import matplotlib.pyplot as plt\n",
    "import pandas as pd\n",
    "#from lib import XGBHelper as xgbh"
   ]
  },
  {
   "cell_type": "code",
   "execution_count": 3,
   "metadata": {},
   "outputs": [],
   "source": [
    "def model_evl(pred, label):\n",
    "    if len(pred)!=len(label):\n",
    "        raise Exception('length not equal, plz chk, pred:%s, label: %s'%(len(pred), len(label)))\n",
    "    evl = {}\n",
    "    if sorted(np.unique(pred)) == [-1,1]:\n",
    "        pred[pred==-1]=0\n",
    "    a = pd.concat([pd.Series(pred, name='pred'), pd.Series(label, name='label')],axis=1)\n",
    "    #evl['ACC'] = sum(a['pred']==a['fraud_ind'])/len(pred) # accuracy\n",
    "    evl['TP'] = sum((a['pred']<0.5) & (a['label'] ==0))\n",
    "    evl['TN'] = sum((a['pred']>=0.5) & (a['label'] ==1))\n",
    "    evl['MS'] = sum((a['pred']>0.5) & (a['label'] ==1))\n",
    "    evl['FA'] = sum((a['pred']>=0.5) & (a['label'] ==0))\n",
    "    evl['ACC'] = (evl['TP']+evl['TN'])/len(pred)\n",
    "    return evl\n",
    "\n",
    "def cal_f1(evl):\n",
    "    precision = evl['TN']/(evl['TN']+evl['FA'])\n",
    "    recall = evl['TN']/(evl['TN']+evl['MS'])\n",
    "    F_1 = 2*(precision*recall/(precision+recall))\n",
    "    return F_1"
   ]
  },
  {
   "cell_type": "code",
   "execution_count": 40,
   "metadata": {},
   "outputs": [
    {
     "name": "stdout",
     "output_type": "stream",
     "text": [
      "CPU times: user 360 ms, sys: 246 ms, total: 606 ms\n",
      "Wall time: 819 ms\n"
     ]
    }
   ],
   "source": [
    "%%time\n",
    "import json\n",
    "with open(\"feature_map.json\",encoding='utf-8') as json_data:\n",
    "     f_m = json.load(json_data)"
   ]
  },
  {
   "cell_type": "code",
   "execution_count": 5,
   "metadata": {},
   "outputs": [],
   "source": [
    "train_raw_cvt = pd.concat([\n",
    "        trans_obj(train_raw), \\\n",
    "        txn_amt_prob(train_raw),\\ \n",
    "        to_timeseg(train_raw)[0],\\\n",
    "        to_timeseg(train_raw)[1],\\\n",
    "        stocn_cvt(train_raw).drop('stocn',axis=1)], axis=1)"
   ]
  },
  {
   "cell_type": "code",
   "execution_count": 6,
   "metadata": {},
   "outputs": [],
   "source": [
    "train_x = train_raw_cvt.drop(['fraud_ind','txkey'],axis=1)\n",
    "train_y = train_raw_cvt['fraud_ind']"
   ]
  },
  {
   "cell_type": "markdown",
   "metadata": {},
   "source": [
    "\n",
    "- Training: 70%\n",
    "- Validation: 15%\n",
    "- Testing: 15%"
   ]
  },
  {
   "cell_type": "code",
   "execution_count": 9,
   "metadata": {},
   "outputs": [],
   "source": [
    "def set_parm(max_depth=3, eta=0.3, silent=0, objective ='binary:logistic', nthread = 7, eval_metrics = 'logloss'):\n",
    "    param={}\n",
    "    param['max_depth']=  max_depth  # depth of tree\n",
    "    param['eta'] = eta     # shrinkage parameter\n",
    "    param['silent'] = silent    # not silent\n",
    "    param['objective'] = objective\n",
    "    param['nthread'] = nthread # Number of threads used\n",
    "    param['eval_metric'] = eval_metrics\n",
    "    print(param)\n",
    "    return param.items()\n",
    "# plst = set_parm()"
   ]
  },
  {
   "cell_type": "code",
   "execution_count": 10,
   "metadata": {},
   "outputs": [
    {
     "name": "stdout",
     "output_type": "stream",
     "text": [
      "{'max_depth': 3, 'eta': 0.3, 'silent': 0, 'objective': 'binary:logistic', 'nthread': 7, 'eval_metric': 'logloss'}\n"
     ]
    }
   ],
   "source": [
    "def run_model(train_x, train_y, num_round = 1000, plst=set_parm()):\n",
    "    \n",
    "    X_train, X_test, y_train, y_test = train_test_split(train_x, train_y, test_size=0.30)\n",
    "    X_test, X_val, y_test, y_val = train_test_split(X_test, y_test, test_size=0.5)\n",
    "\n",
    "    dtrain = xgb.DMatrix(X_train, label=y_train)\n",
    "    dval = xgb.DMatrix(X_val, y_val)\n",
    "    dtest = xgb.DMatrix(X_test, label=y_test)\n",
    "\n",
    "    evallist = [(dtrain, 'train'), (dval, 'eval'), (dtest, 'test')]\n",
    "    # bst1000 is model with 1000 iterations\n",
    "    # Use early_stopping_rounds=5 to enable early stopping\n",
    "    bst = xgb.train(plst, dtrain, num_round, evallist, verbose_eval=False, early_stopping_rounds=50)\n",
    "    val_preds = bst.predict(dval, ntree_limit=bst.best_ntree_limit)\n",
    "    test_preds = bst.predict(dtest, ntree_limit=bst.best_ntree_limit)\n",
    "    val_labels = dval.get_label()\n",
    "    test_labels = dtest.get_label()\n",
    "    val_f1 = cal_f1(model_evl(val_preds, val_labels))\n",
    "    test_f1 = cal_f1(model_evl(test_preds, test_labels))\n",
    "    return bst, val_f1, test_f1"
   ]
  },
  {
   "cell_type": "code",
   "execution_count": 11,
   "metadata": {},
   "outputs": [],
   "source": [
    "datetime = !date +%Y%m%d-%H%M\n",
    "dir_name = 'model_'+datetime[0]\n",
    "!mkdir $dir_name"
   ]
  },
  {
   "cell_type": "code",
   "execution_count": 13,
   "metadata": {},
   "outputs": [
    {
     "name": "stdout",
     "output_type": "stream",
     "text": [
      "{'max_depth': 3, 'eta': 0.3, 'silent': 0, 'objective': 'binary:logistic', 'nthread': 7, 'eval_metric': 'logloss'}\n"
     ]
    },
    {
     "name": "stderr",
     "output_type": "stream",
     "text": [
      "/Library/Frameworks/Python.framework/Versions/3.6/lib/python3.6/site-packages/xgboost/core.py:587: FutureWarning: Series.base is deprecated and will be removed in a future version\n",
      "  if getattr(data, 'base', None) is not None and \\\n"
     ]
    }
   ],
   "source": [
    "\n",
    "plst = set_parm()\n",
    "\n",
    "train_x, val_f1, test_f1 = run_model(train_x,train_y, plst = plst)\n",
    "#model_log['model_para'] = plst\n",
    "#model_log['perfomance'] = {'val':val_f1,'test':test_f1}\n",
    "bst.save_model('%s/model_new_featue.model'%dir_name)"
   ]
  },
  {
   "cell_type": "code",
   "execution_count": null,
   "metadata": {},
   "outputs": [],
   "source": [
    "print(val_f1, test_f1)"
   ]
  },
  {
   "cell_type": "code",
   "execution_count": null,
   "metadata": {},
   "outputs": [],
   "source": []
  },
  {
   "cell_type": "code",
   "execution_count": null,
   "metadata": {},
   "outputs": [],
   "source": []
  },
  {
   "cell_type": "code",
   "execution_count": 23,
   "metadata": {},
   "outputs": [],
   "source": [
    "etas = [0.1, 0.15, 0.2]\n",
    "num_rounds = [800, 900, 1000, 1100, 1200]\n",
    "run_set = []\n",
    "for i in etas:\n",
    "    for j in num_rounds:\n",
    "        if j > 1000 and i in [0.1, 0.15, 0.2]:\n",
    "            run_set.append((i,j))\n",
    "        elif j ==1000:\n",
    "            run_set.append((i,j))\n",
    "        elif j<1000 and i in [0.25,0.3, 0.35]:\n",
    "            run_set.append((i,j))"
   ]
  },
  {
   "cell_type": "code",
   "execution_count": 24,
   "metadata": {},
   "outputs": [
    {
     "data": {
      "text/plain": [
       "[(0.1, 1000),\n",
       " (0.1, 1100),\n",
       " (0.1, 1200),\n",
       " (0.15, 1000),\n",
       " (0.15, 1100),\n",
       " (0.15, 1200),\n",
       " (0.2, 1000),\n",
       " (0.2, 1100),\n",
       " (0.2, 1200),\n",
       " (0.25, 800),\n",
       " (0.25, 900),\n",
       " (0.25, 1000),\n",
       " (0.3, 800),\n",
       " (0.3, 900),\n",
       " (0.3, 1000),\n",
       " (0.35, 800),\n",
       " (0.35, 900),\n",
       " (0.35, 1000)]"
      ]
     },
     "execution_count": 24,
     "metadata": {},
     "output_type": "execute_result"
    }
   ],
   "source": [
    "run_set"
   ]
  },
  {
   "cell_type": "code",
   "execution_count": 25,
   "metadata": {},
   "outputs": [
    {
     "name": "stdout",
     "output_type": "stream",
     "text": [
      "{'max_depth': 3, 'eta': 0.3, 'silent': 0, 'objective': 'binary:logistic', 'nthread': 7, 'eval_metric': 'logloss'}\n",
      "(0.3, 900) 0.6239756051076807 0.6256635548233571\n",
      "{'max_depth': 3, 'eta': 0.3, 'silent': 0, 'objective': 'binary:logistic', 'nthread': 7, 'eval_metric': 'logloss'}\n",
      "(0.3, 1000) 0.6256120527306968 0.6258601955813111\n",
      "{'max_depth': 3, 'eta': 0.35, 'silent': 0, 'objective': 'binary:logistic', 'nthread': 7, 'eval_metric': 'logloss'}\n",
      "(0.35, 800) 0.624286258089075 0.6263177026535804\n",
      "{'max_depth': 3, 'eta': 0.35, 'silent': 0, 'objective': 'binary:logistic', 'nthread': 7, 'eval_metric': 'logloss'}\n",
      "(0.35, 900) 0.6279287722586692 0.6276195593766792\n"
     ]
    }
   ],
   "source": [
    "track = []\n",
    "for r_s in run_set[13:-1]:\n",
    "    nr = r_s[1]\n",
    "    eta = r_s[0]\n",
    "    plst = set_parm(eta = eta)\n",
    "    bst, val_f1,test_f1 = run_model(train_x,train_y,num_round = nr, plst = plst)\n",
    "    print(r_s, val_f1,test_f1)\n",
    "    track.append(('models/%s_%s.model'%r_s, val_f1, test_f1))\n",
    "    bst.save_model('models/%s_%s.model'%r_s)\n",
    "    "
   ]
  },
  {
   "cell_type": "code",
   "execution_count": 133,
   "metadata": {},
   "outputs": [
    {
     "data": {
      "text/plain": [
       "[('models/0.1_800.model', 0.6223394236202675, 0.6260463305431185)]"
      ]
     },
     "execution_count": 133,
     "metadata": {},
     "output_type": "execute_result"
    }
   ],
   "source": [
    "track                                                                 "
   ]
  },
  {
   "cell_type": "markdown",
   "metadata": {},
   "source": [
    "# select feature with xgboost feature importance "
   ]
  },
  {
   "cell_type": "code",
   "execution_count": 15,
   "metadata": {},
   "outputs": [
    {
     "data": {
      "text/plain": [
       "XGBClassifier(base_score=0.5, booster='gbtree', colsample_bylevel=1,\n",
       "              colsample_bynode=1, colsample_bytree=1, gamma=0,\n",
       "              learning_rate=0.1, max_delta_step=0, max_depth=3,\n",
       "              min_child_weight=1, missing=None, n_estimators=600, n_jobs=1,\n",
       "              nthread=None, objective='binary:logistic', random_state=0,\n",
       "              reg_alpha=0, reg_lambda=1, scale_pos_weight=1, seed=None,\n",
       "              silent=None, subsample=1, verbosity=1)"
      ]
     },
     "execution_count": 15,
     "metadata": {},
     "output_type": "execute_result"
    }
   ],
   "source": [
    "model = XGBClassifier(learning_rate = 0.1, n_estimators=600, max_depth=3)\n",
    "model.fit(train_x, train_y)"
   ]
  },
  {
   "cell_type": "code",
   "execution_count": 39,
   "metadata": {},
   "outputs": [
    {
     "data": {
      "text/html": [
       "<div>\n",
       "<style scoped>\n",
       "    .dataframe tbody tr th:only-of-type {\n",
       "        vertical-align: middle;\n",
       "    }\n",
       "\n",
       "    .dataframe tbody tr th {\n",
       "        vertical-align: top;\n",
       "    }\n",
       "\n",
       "    .dataframe thead th {\n",
       "        text-align: right;\n",
       "    }\n",
       "</style>\n",
       "<table border=\"1\" class=\"dataframe\">\n",
       "  <thead>\n",
       "    <tr style=\"text-align: right;\">\n",
       "      <th></th>\n",
       "      <th>0</th>\n",
       "    </tr>\n",
       "  </thead>\n",
       "  <tbody>\n",
       "    <tr>\n",
       "      <td>loctm_cvt</td>\n",
       "      <td>0.000000</td>\n",
       "    </tr>\n",
       "    <tr>\n",
       "      <td>stscd_4</td>\n",
       "      <td>0.000000</td>\n",
       "    </tr>\n",
       "    <tr>\n",
       "      <td>stscd_3</td>\n",
       "      <td>0.000000</td>\n",
       "    </tr>\n",
       "    <tr>\n",
       "      <td>stscd_0</td>\n",
       "      <td>0.000000</td>\n",
       "    </tr>\n",
       "    <tr>\n",
       "      <td>iterm</td>\n",
       "      <td>0.002656</td>\n",
       "    </tr>\n",
       "    <tr>\n",
       "      <td>contp</td>\n",
       "      <td>0.003326</td>\n",
       "    </tr>\n",
       "    <tr>\n",
       "      <td>insfg</td>\n",
       "      <td>0.003664</td>\n",
       "    </tr>\n",
       "    <tr>\n",
       "      <td>locdt_cvt</td>\n",
       "      <td>0.004248</td>\n",
       "    </tr>\n",
       "    <tr>\n",
       "      <td>loctm</td>\n",
       "      <td>0.006997</td>\n",
       "    </tr>\n",
       "    <tr>\n",
       "      <td>ovrlt</td>\n",
       "      <td>0.007892</td>\n",
       "    </tr>\n",
       "    <tr>\n",
       "      <td>stocn</td>\n",
       "      <td>0.008031</td>\n",
       "    </tr>\n",
       "    <tr>\n",
       "      <td>stscd_1</td>\n",
       "      <td>0.008076</td>\n",
       "    </tr>\n",
       "    <tr>\n",
       "      <td>bacno</td>\n",
       "      <td>0.010216</td>\n",
       "    </tr>\n",
       "    <tr>\n",
       "      <td>locdt</td>\n",
       "      <td>0.011780</td>\n",
       "    </tr>\n",
       "    <tr>\n",
       "      <td>cano</td>\n",
       "      <td>0.013137</td>\n",
       "    </tr>\n",
       "    <tr>\n",
       "      <td>flbmk</td>\n",
       "      <td>0.014223</td>\n",
       "    </tr>\n",
       "    <tr>\n",
       "      <td>mcc</td>\n",
       "      <td>0.016527</td>\n",
       "    </tr>\n",
       "    <tr>\n",
       "      <td>hcefg</td>\n",
       "      <td>0.017020</td>\n",
       "    </tr>\n",
       "    <tr>\n",
       "      <td>acqic</td>\n",
       "      <td>0.018208</td>\n",
       "    </tr>\n",
       "    <tr>\n",
       "      <td>etymd</td>\n",
       "      <td>0.019403</td>\n",
       "    </tr>\n",
       "    <tr>\n",
       "      <td>flg_3dsmk</td>\n",
       "      <td>0.021801</td>\n",
       "    </tr>\n",
       "    <tr>\n",
       "      <td>mchno</td>\n",
       "      <td>0.024286</td>\n",
       "    </tr>\n",
       "    <tr>\n",
       "      <td>scity</td>\n",
       "      <td>0.031628</td>\n",
       "    </tr>\n",
       "    <tr>\n",
       "      <td>conam</td>\n",
       "      <td>0.032268</td>\n",
       "    </tr>\n",
       "    <tr>\n",
       "      <td>stscd_2</td>\n",
       "      <td>0.033405</td>\n",
       "    </tr>\n",
       "    <tr>\n",
       "      <td>conam_cvt</td>\n",
       "      <td>0.044013</td>\n",
       "    </tr>\n",
       "    <tr>\n",
       "      <td>csmcu</td>\n",
       "      <td>0.047589</td>\n",
       "    </tr>\n",
       "    <tr>\n",
       "      <td>stscd</td>\n",
       "      <td>0.064869</td>\n",
       "    </tr>\n",
       "    <tr>\n",
       "      <td>ecfg</td>\n",
       "      <td>0.102459</td>\n",
       "    </tr>\n",
       "    <tr>\n",
       "      <td>fraud_mean</td>\n",
       "      <td>0.432278</td>\n",
       "    </tr>\n",
       "  </tbody>\n",
       "</table>\n",
       "</div>"
      ],
      "text/plain": [
       "                   0\n",
       "loctm_cvt   0.000000\n",
       "stscd_4     0.000000\n",
       "stscd_3     0.000000\n",
       "stscd_0     0.000000\n",
       "iterm       0.002656\n",
       "contp       0.003326\n",
       "insfg       0.003664\n",
       "locdt_cvt   0.004248\n",
       "loctm       0.006997\n",
       "ovrlt       0.007892\n",
       "stocn       0.008031\n",
       "stscd_1     0.008076\n",
       "bacno       0.010216\n",
       "locdt       0.011780\n",
       "cano        0.013137\n",
       "flbmk       0.014223\n",
       "mcc         0.016527\n",
       "hcefg       0.017020\n",
       "acqic       0.018208\n",
       "etymd       0.019403\n",
       "flg_3dsmk   0.021801\n",
       "mchno       0.024286\n",
       "scity       0.031628\n",
       "conam       0.032268\n",
       "stscd_2     0.033405\n",
       "conam_cvt   0.044013\n",
       "csmcu       0.047589\n",
       "stscd       0.064869\n",
       "ecfg        0.102459\n",
       "fraud_mean  0.432278"
      ]
     },
     "execution_count": 39,
     "metadata": {},
     "output_type": "execute_result"
    }
   ],
   "source": [
    "pd.DataFrame(model.feature_importances_, train_x.columns).sort_values(0)\n"
   ]
  },
  {
   "cell_type": "code",
   "execution_count": 44,
   "metadata": {},
   "outputs": [],
   "source": [
    "y_pred = model.predict(X_test)"
   ]
  },
  {
   "cell_type": "code",
   "execution_count": 35,
   "metadata": {},
   "outputs": [
    {
     "data": {
      "image/png": "[encoded data removed]",
      "text/plain": [
       "<Figure size 432x288 with 1 Axes>"
      ]
     },
     "metadata": {},
     "output_type": "display_data"
    }
   ],
   "source": [
    "from xgboost import plot_importance\n",
    "plot_importance(model)\n",
    "plt.show()"
   ]
  },
  {
   "cell_type": "code",
   "execution_count": 46,
   "metadata": {},
   "outputs": [],
   "source": [
    " not_important = ['hcefg', 'insfg', 'iterm', 'flg_3dsmk', 'flbmk', 'contp', 'ovrlt']"
   ]
  },
  {
   "cell_type": "code",
   "execution_count": 57,
   "metadata": {},
   "outputs": [],
   "source": [
    "train_x2 = train_x.drop(not_important,axis=1)"
   ]
  },
  {
   "cell_type": "code",
   "execution_count": 58,
   "metadata": {},
   "outputs": [
    {
     "name": "stdout",
     "output_type": "stream",
     "text": [
      "{'max_depth': 3, 'eta': 0.1, 'silent': 0, 'objective': 'binary:logistic', 'nthread': 7, 'eval_metric': 'logloss'}\n"
     ]
    },
    {
     "name": "stderr",
     "output_type": "stream",
     "text": [
      "/Library/Frameworks/Python.framework/Versions/3.6/lib/python3.6/site-packages/xgboost/core.py:587: FutureWarning: Series.base is deprecated and will be removed in a future version\n",
      "  if getattr(data, 'base', None) is not None and \\\n"
     ]
    },
    {
     "name": "stdout",
     "output_type": "stream",
     "text": [
      "(0.1, 1000) 0.6177908113391984 0.6132887189292542\n",
      "{'max_depth': 3, 'eta': 0.1, 'silent': 0, 'objective': 'binary:logistic', 'nthread': 7, 'eval_metric': 'logloss'}\n",
      "(0.1, 1100) 0.6125390343502282 0.6136309665162669\n",
      "{'max_depth': 3, 'eta': 0.1, 'silent': 0, 'objective': 'binary:logistic', 'nthread': 7, 'eval_metric': 'logloss'}\n",
      "(0.1, 1200) 0.6215253029223093 0.6146811070998798\n",
      "{'max_depth': 3, 'eta': 0.15, 'silent': 0, 'objective': 'binary:logistic', 'nthread': 7, 'eval_metric': 'logloss'}\n",
      "(0.15, 1000) 0.6233586731167934 0.6211261457878655\n",
      "{'max_depth': 3, 'eta': 0.15, 'silent': 0, 'objective': 'binary:logistic', 'nthread': 7, 'eval_metric': 'logloss'}\n",
      "(0.15, 1100) 0.6217472118959109 0.6223835967535242\n",
      "{'max_depth': 3, 'eta': 0.15, 'silent': 0, 'objective': 'binary:logistic', 'nthread': 7, 'eval_metric': 'logloss'}\n",
      "(0.15, 1200) 0.617732884399551 0.6236070047759836\n",
      "{'max_depth': 3, 'eta': 0.2, 'silent': 0, 'objective': 'binary:logistic', 'nthread': 7, 'eval_metric': 'logloss'}\n",
      "(0.2, 1000) 0.6173752310536045 0.6204063986165154\n",
      "{'max_depth': 3, 'eta': 0.2, 'silent': 0, 'objective': 'binary:logistic', 'nthread': 7, 'eval_metric': 'logloss'}\n",
      "(0.2, 1100) 0.6270523846755278 0.6212876652937351\n",
      "{'max_depth': 3, 'eta': 0.2, 'silent': 0, 'objective': 'binary:logistic', 'nthread': 7, 'eval_metric': 'logloss'}\n",
      "(0.2, 1200) 0.6196046793061719 0.6225951698731068\n",
      "{'max_depth': 3, 'eta': 0.25, 'silent': 0, 'objective': 'binary:logistic', 'nthread': 7, 'eval_metric': 'logloss'}\n",
      "(0.25, 800) 0.6179705333056651 0.6229302033116747\n",
      "{'max_depth': 3, 'eta': 0.25, 'silent': 0, 'objective': 'binary:logistic', 'nthread': 7, 'eval_metric': 'logloss'}\n",
      "(0.25, 900) 0.6252579446966571 0.6207337883959044\n",
      "{'max_depth': 3, 'eta': 0.25, 'silent': 0, 'objective': 'binary:logistic', 'nthread': 7, 'eval_metric': 'logloss'}\n",
      "(0.25, 1000) 0.6216439487814953 0.6205097330925146\n",
      "{'max_depth': 3, 'eta': 0.3, 'silent': 0, 'objective': 'binary:logistic', 'nthread': 7, 'eval_metric': 'logloss'}\n",
      "(0.3, 800) 0.6211180124223602 0.6233463035019454\n",
      "{'max_depth': 3, 'eta': 0.3, 'silent': 0, 'objective': 'binary:logistic', 'nthread': 7, 'eval_metric': 'logloss'}\n",
      "(0.3, 900) 0.6229508196721311 0.6238886741399304\n",
      "{'max_depth': 3, 'eta': 0.3, 'silent': 0, 'objective': 'binary:logistic', 'nthread': 7, 'eval_metric': 'logloss'}\n",
      "(0.3, 1000) 0.6163322074309557 0.6205314471420378\n",
      "{'max_depth': 3, 'eta': 0.35, 'silent': 0, 'objective': 'binary:logistic', 'nthread': 7, 'eval_metric': 'logloss'}\n",
      "(0.35, 800) 0.6199511553635169 0.6222583265637692\n",
      "{'max_depth': 3, 'eta': 0.35, 'silent': 0, 'objective': 'binary:logistic', 'nthread': 7, 'eval_metric': 'logloss'}\n",
      "(0.35, 900) 0.6194904973716134 0.6169154228855721\n"
     ]
    }
   ],
   "source": [
    "track2 = []\n",
    "for r_s in run_set[0:-1]:\n",
    "    nr = r_s[1]\n",
    "    eta = r_s[0]\n",
    "    plst = set_parm(eta = eta)\n",
    "    bst2, val_f12,test_f12 = run_model(train_x2,train_y,num_round = nr, plst = plst)\n",
    "    print(r_s, val_f12,test_f12)\n",
    "    track2.append(('models_2/%s_%s.model'%r_s, val_f12, test_f12))\n",
    "    bst2.save_model('models_2/%s_%s.model'%r_s)"
   ]
  },
  {
   "cell_type": "markdown",
   "metadata": {},
   "source": [
    "# with MCA"
   ]
  },
  {
   "cell_type": "code",
   "execution_count": 29,
   "metadata": {},
   "outputs": [],
   "source": [
    "mca = pd.read_csv('train_mca_out.csv')"
   ]
  },
  {
   "cell_type": "code",
   "execution_count": 30,
   "metadata": {},
   "outputs": [],
   "source": [
    "exclude = ['bacno', 'txkey','locdt','loctm', 'cano','conam','mchno','acqic','scity','fraud_ind','mcc']\n",
    "data_mca_deduct = train_raw[exclude].drop(['fraud_ind','txkey'],axis=1)\n",
    "train_y = train_raw['fraud_ind']"
   ]
  },
  {
   "cell_type": "code",
   "execution_count": 6,
   "metadata": {},
   "outputs": [
    {
     "name": "stdout",
     "output_type": "stream",
     "text": [
      "{'max_depth': 3, 'eta': 0.3, 'silent': 0, 'objective': 'binary:logistic', 'nthread': 7, 'eval_metric': 'logloss'}\n"
     ]
    }
   ],
   "source": [
    "param={}\n",
    "param['max_depth']= 3   # depth of tree\n",
    "param['eta'] = 0.3      # shrinkage parameter\n",
    "param['silent'] = 0     # not silent\n",
    "param['objective'] = 'binary:logistic'\n",
    "param['nthread'] = 7 # Number of threads used\n",
    "param['eval_metric'] = 'logloss'\n",
    "\n",
    "plst = param.items()\n",
    "print(param)\n",
    "\n",
    "# bst1000 is model with 1000 iterations\n",
    "num_round = 1000"
   ]
  },
  {
   "cell_type": "code",
   "execution_count": 61,
   "metadata": {},
   "outputs": [
    {
     "name": "stdout",
     "output_type": "stream",
     "text": [
      "['0', '1']\n"
     ]
    },
    {
     "name": "stderr",
     "output_type": "stream",
     "text": [
      "/Library/Frameworks/Python.framework/Versions/3.6/lib/python3.6/site-packages/xgboost/core.py:587: FutureWarning: Series.base is deprecated and will be removed in a future version\n",
      "  if getattr(data, 'base', None) is not None and \\\n"
     ]
    }
   ],
   "source": [
    "track={}\n",
    "for i in [2]:\n",
    "    print(list(str(j) for j in range(i)))\n",
    "    mac_incldue = mca[list(str(j) for j in range(i))]\n",
    "    data_mca_deduct_2 =pd.concat([data_mca_deduct, mac_incldue],axis=1)\n",
    "    train_x = data_mca_deduct_2\n",
    "    \n",
    "    X_train, X_test, y_train, y_test = train_test_split(train_x, train_y, test_size=0.30)\n",
    "    X_test, X_val, y_test, y_val = train_test_split(X_test, y_test, test_size=0.5)\n",
    "\n",
    "    dtrain = xgb.DMatrix(X_train, label=y_train)\n",
    "    dval = xgb.DMatrix(X_val, label =y_val)\n",
    "    dtest = xgb.DMatrix(X_test, label=y_test)\n",
    "    \n",
    "    evallist = [(dtrain, 'train'), (dval, 'eval'),(dtest, 'test')]\n",
    "    \n",
    "    # Use early_stopping_rounds=5 to enable early stopping\n",
    "    bst1000 = xgb.train(plst, dtrain, num_round, evallist, verbose_eval=False,early_stopping_rounds=10)\n",
    "    \n",
    "    preds_eval = bst1000.predict(dval)\n",
    "    preds_test = bst1000.predict(dtest)\n",
    "    \n",
    "    labels_eval = dval.get_label()\n",
    "    labels_test = dtest.get_label()\n",
    "    \n",
    "    a = cal_f1(model_evl(preds_eval, labels_eval))\n",
    "    b = cal_f1(model_evl(preds_test, labels_test))\n",
    "    \n",
    "    #track[str(i)] = {\"F1\": {\"eval\":a, \"test\":b}}"
   ]
  },
  {
   "cell_type": "code",
   "execution_count": 35,
   "metadata": {},
   "outputs": [
    {
     "data": {
      "text/plain": [
       "{'2': {'F1': {'eval': 0.6286158027567462, 'test': 0.6312368571974766}},\n",
       " '3': {'F1': {'eval': 0.622634508348794, 'test': 0.6235755651036802}},\n",
       " '4': {'F1': {'eval': 0.6287282708142726, 'test': 0.630671166104237}},\n",
       " '5': {'F1': {'eval': 0.6258868648130393, 'test': 0.6298502075437648}},\n",
       " '6': {'F1': {'eval': 0.6277643560676454, 'test': 0.6245480494766888}}}"
      ]
     },
     "execution_count": 35,
     "metadata": {},
     "output_type": "execute_result"
    }
   ],
   "source": [
    "track"
   ]
  },
  {
   "cell_type": "code",
   "execution_count": 34,
   "metadata": {},
   "outputs": [],
   "source": [
    "#bst1000.save_model('n1000_mca0_8.model')"
   ]
  },
  {
   "cell_type": "code",
   "execution_count": 70,
   "metadata": {},
   "outputs": [],
   "source": [
    "rTest = pd.read_csv('test.csv')\n",
    "\n",
    "\n",
    "exclude = ['bacno', 'txkey','locdt','loctm', 'cano','conam','mchno','acqic','scity','mcc']\n",
    "\n",
    "rTest_X = rTest[exclude].drop('txkey',axis=1)\n",
    "\n",
    "rTest_mca = pd.read_csv('test_mca_out.csv')"
   ]
  },
  {
   "cell_type": "code",
   "execution_count": 71,
   "metadata": {},
   "outputs": [
    {
     "data": {
      "text/html": [
       "<div>\n",
       "<style scoped>\n",
       "    .dataframe tbody tr th:only-of-type {\n",
       "        vertical-align: middle;\n",
       "    }\n",
       "\n",
       "    .dataframe tbody tr th {\n",
       "        vertical-align: top;\n",
       "    }\n",
       "\n",
       "    .dataframe thead th {\n",
       "        text-align: right;\n",
       "    }\n",
       "</style>\n",
       "<table border=\"1\" class=\"dataframe\">\n",
       "  <thead>\n",
       "    <tr style=\"text-align: right;\">\n",
       "      <th></th>\n",
       "      <th>bacno</th>\n",
       "      <th>locdt</th>\n",
       "      <th>loctm</th>\n",
       "      <th>cano</th>\n",
       "      <th>conam</th>\n",
       "      <th>mchno</th>\n",
       "      <th>acqic</th>\n",
       "      <th>scity</th>\n",
       "      <th>mcc</th>\n",
       "      <th>0</th>\n",
       "      <th>1</th>\n",
       "    </tr>\n",
       "  </thead>\n",
       "  <tbody>\n",
       "    <tr>\n",
       "      <td>0</td>\n",
       "      <td>163188</td>\n",
       "      <td>102</td>\n",
       "      <td>215328.0</td>\n",
       "      <td>116799</td>\n",
       "      <td>513.8</td>\n",
       "      <td>59360</td>\n",
       "      <td>6881</td>\n",
       "      <td>0</td>\n",
       "      <td>457</td>\n",
       "      <td>-0.093944</td>\n",
       "      <td>-0.587198</td>\n",
       "    </tr>\n",
       "    <tr>\n",
       "      <td>1</td>\n",
       "      <td>163188</td>\n",
       "      <td>102</td>\n",
       "      <td>222007.0</td>\n",
       "      <td>116799</td>\n",
       "      <td>513.8</td>\n",
       "      <td>59360</td>\n",
       "      <td>6881</td>\n",
       "      <td>0</td>\n",
       "      <td>457</td>\n",
       "      <td>-0.093944</td>\n",
       "      <td>-0.587198</td>\n",
       "    </tr>\n",
       "    <tr>\n",
       "      <td>2</td>\n",
       "      <td>163188</td>\n",
       "      <td>100</td>\n",
       "      <td>170013.0</td>\n",
       "      <td>116799</td>\n",
       "      <td>513.8</td>\n",
       "      <td>59360</td>\n",
       "      <td>6881</td>\n",
       "      <td>0</td>\n",
       "      <td>457</td>\n",
       "      <td>-0.093944</td>\n",
       "      <td>-0.587198</td>\n",
       "    </tr>\n",
       "    <tr>\n",
       "      <td>3</td>\n",
       "      <td>163188</td>\n",
       "      <td>100</td>\n",
       "      <td>165914.0</td>\n",
       "      <td>116799</td>\n",
       "      <td>513.8</td>\n",
       "      <td>59360</td>\n",
       "      <td>6881</td>\n",
       "      <td>0</td>\n",
       "      <td>457</td>\n",
       "      <td>-0.093944</td>\n",
       "      <td>-0.587198</td>\n",
       "    </tr>\n",
       "    <tr>\n",
       "      <td>4</td>\n",
       "      <td>163188</td>\n",
       "      <td>102</td>\n",
       "      <td>215311.0</td>\n",
       "      <td>116799</td>\n",
       "      <td>513.8</td>\n",
       "      <td>59360</td>\n",
       "      <td>6881</td>\n",
       "      <td>0</td>\n",
       "      <td>457</td>\n",
       "      <td>-0.093944</td>\n",
       "      <td>-0.587198</td>\n",
       "    </tr>\n",
       "  </tbody>\n",
       "</table>\n",
       "</div>"
      ],
      "text/plain": [
       "    bacno  locdt     loctm    cano  conam  mchno  acqic  scity  mcc         0  \\\n",
       "0  163188    102  215328.0  116799  513.8  59360   6881      0  457 -0.093944   \n",
       "1  163188    102  222007.0  116799  513.8  59360   6881      0  457 -0.093944   \n",
       "2  163188    100  170013.0  116799  513.8  59360   6881      0  457 -0.093944   \n",
       "3  163188    100  165914.0  116799  513.8  59360   6881      0  457 -0.093944   \n",
       "4  163188    102  215311.0  116799  513.8  59360   6881      0  457 -0.093944   \n",
       "\n",
       "          1  \n",
       "0 -0.587198  \n",
       "1 -0.587198  \n",
       "2 -0.587198  \n",
       "3 -0.587198  \n",
       "4 -0.587198  "
      ]
     },
     "execution_count": 71,
     "metadata": {},
     "output_type": "execute_result"
    }
   ],
   "source": [
    "rTest_X2 = pd.concat([rTest_X, rTest_mca[['0','1']]], axis=1)\n",
    "rTest_X2.head()"
   ]
  },
  {
   "cell_type": "code",
   "execution_count": 73,
   "metadata": {},
   "outputs": [],
   "source": [
    "a=xgb.DMatrix(rTest_X2)\n",
    "b = pd.DataFrame(bst1000.predict(a))"
   ]
  },
  {
   "cell_type": "code",
   "execution_count": 85,
   "metadata": {},
   "outputs": [],
   "source": [
    "ans = pd.DataFrame()\n",
    "ans['txkey'] = rTest['txkey']\n",
    "ans['fraud_ind'] =(b[0]>=0.5).astype('int')"
   ]
  },
  {
   "cell_type": "code",
   "execution_count": 88,
   "metadata": {},
   "outputs": [],
   "source": [
    "ans.to_csv('result_1.csv')"
   ]
  },
  {
   "cell_type": "code",
   "execution_count": 75,
   "metadata": {},
   "outputs": [
    {
     "data": {
      "text/html": [
       "<div>\n",
       "<style scoped>\n",
       "    .dataframe tbody tr th:only-of-type {\n",
       "        vertical-align: middle;\n",
       "    }\n",
       "\n",
       "    .dataframe tbody tr th {\n",
       "        vertical-align: top;\n",
       "    }\n",
       "\n",
       "    .dataframe thead th {\n",
       "        text-align: right;\n",
       "    }\n",
       "</style>\n",
       "<table border=\"1\" class=\"dataframe\">\n",
       "  <thead>\n",
       "    <tr style=\"text-align: right;\">\n",
       "      <th></th>\n",
       "      <th>txkey</th>\n",
       "      <th>fraud_ind</th>\n",
       "    </tr>\n",
       "  </thead>\n",
       "  <tbody>\n",
       "    <tr>\n",
       "      <td>0</td>\n",
       "      <td>592489</td>\n",
       "      <td>0</td>\n",
       "    </tr>\n",
       "    <tr>\n",
       "      <td>1</td>\n",
       "      <td>592452</td>\n",
       "      <td>0</td>\n",
       "    </tr>\n",
       "    <tr>\n",
       "      <td>2</td>\n",
       "      <td>590212</td>\n",
       "      <td>0</td>\n",
       "    </tr>\n",
       "    <tr>\n",
       "      <td>3</td>\n",
       "      <td>590209</td>\n",
       "      <td>0</td>\n",
       "    </tr>\n",
       "    <tr>\n",
       "      <td>4</td>\n",
       "      <td>592488</td>\n",
       "      <td>0</td>\n",
       "    </tr>\n",
       "    <tr>\n",
       "      <td>...</td>\n",
       "      <td>...</td>\n",
       "      <td>...</td>\n",
       "    </tr>\n",
       "    <tr>\n",
       "      <td>421660</td>\n",
       "      <td>1187507</td>\n",
       "      <td>0</td>\n",
       "    </tr>\n",
       "    <tr>\n",
       "      <td>421661</td>\n",
       "      <td>1182598</td>\n",
       "      <td>0</td>\n",
       "    </tr>\n",
       "    <tr>\n",
       "      <td>421662</td>\n",
       "      <td>898724</td>\n",
       "      <td>0</td>\n",
       "    </tr>\n",
       "    <tr>\n",
       "      <td>421663</td>\n",
       "      <td>971467</td>\n",
       "      <td>0</td>\n",
       "    </tr>\n",
       "    <tr>\n",
       "      <td>421664</td>\n",
       "      <td>101230</td>\n",
       "      <td>0</td>\n",
       "    </tr>\n",
       "  </tbody>\n",
       "</table>\n",
       "<p>421665 rows × 2 columns</p>\n",
       "</div>"
      ],
      "text/plain": [
       "          txkey  fraud_ind\n",
       "0        592489          0\n",
       "1        592452          0\n",
       "2        590212          0\n",
       "3        590209          0\n",
       "4        592488          0\n",
       "...         ...        ...\n",
       "421660  1187507          0\n",
       "421661  1182598          0\n",
       "421662   898724          0\n",
       "421663   971467          0\n",
       "421664   101230          0\n",
       "\n",
       "[421665 rows x 2 columns]"
      ]
     },
     "execution_count": 75,
     "metadata": {},
     "output_type": "execute_result"
    }
   ],
   "source": [
    "pd.read_csv('submission_test.csv')"
   ]
  },
  {
   "cell_type": "code",
   "execution_count": 65,
   "metadata": {},
   "outputs": [
    {
     "data": {
      "text/html": [
       "<div>\n",
       "<style scoped>\n",
       "    .dataframe tbody tr th:only-of-type {\n",
       "        vertical-align: middle;\n",
       "    }\n",
       "\n",
       "    .dataframe tbody tr th {\n",
       "        vertical-align: top;\n",
       "    }\n",
       "\n",
       "    .dataframe thead th {\n",
       "        text-align: right;\n",
       "    }\n",
       "</style>\n",
       "<table border=\"1\" class=\"dataframe\">\n",
       "  <thead>\n",
       "    <tr style=\"text-align: right;\">\n",
       "      <th></th>\n",
       "      <th>bacno</th>\n",
       "      <th>locdt</th>\n",
       "      <th>loctm</th>\n",
       "      <th>cano</th>\n",
       "      <th>conam</th>\n",
       "      <th>mchno</th>\n",
       "      <th>acqic</th>\n",
       "      <th>scity</th>\n",
       "      <th>mcc</th>\n",
       "      <th>0</th>\n",
       "      <th>1</th>\n",
       "    </tr>\n",
       "  </thead>\n",
       "  <tbody>\n",
       "    <tr>\n",
       "      <td>969356</td>\n",
       "      <td>117197</td>\n",
       "      <td>3</td>\n",
       "      <td>214719.0</td>\n",
       "      <td>196204</td>\n",
       "      <td>205.78</td>\n",
       "      <td>55807</td>\n",
       "      <td>3221</td>\n",
       "      <td>6580</td>\n",
       "      <td>288</td>\n",
       "      <td>0.064410</td>\n",
       "      <td>1.263980</td>\n",
       "    </tr>\n",
       "    <tr>\n",
       "      <td>605537</td>\n",
       "      <td>98573</td>\n",
       "      <td>38</td>\n",
       "      <td>123130.0</td>\n",
       "      <td>26897</td>\n",
       "      <td>1061.92</td>\n",
       "      <td>60275</td>\n",
       "      <td>6716</td>\n",
       "      <td>5803</td>\n",
       "      <td>247</td>\n",
       "      <td>-0.083417</td>\n",
       "      <td>-0.200314</td>\n",
       "    </tr>\n",
       "    <tr>\n",
       "      <td>587809</td>\n",
       "      <td>33759</td>\n",
       "      <td>87</td>\n",
       "      <td>202421.0</td>\n",
       "      <td>192930</td>\n",
       "      <td>490.68</td>\n",
       "      <td>78362</td>\n",
       "      <td>6032</td>\n",
       "      <td>5817</td>\n",
       "      <td>291</td>\n",
       "      <td>-0.086315</td>\n",
       "      <td>-0.219788</td>\n",
       "    </tr>\n",
       "    <tr>\n",
       "      <td>284094</td>\n",
       "      <td>75755</td>\n",
       "      <td>46</td>\n",
       "      <td>203346.0</td>\n",
       "      <td>138226</td>\n",
       "      <td>393.39</td>\n",
       "      <td>62101</td>\n",
       "      <td>6716</td>\n",
       "      <td>5803</td>\n",
       "      <td>306</td>\n",
       "      <td>-0.086315</td>\n",
       "      <td>-0.219788</td>\n",
       "    </tr>\n",
       "    <tr>\n",
       "      <td>380450</td>\n",
       "      <td>44117</td>\n",
       "      <td>23</td>\n",
       "      <td>153521.0</td>\n",
       "      <td>128943</td>\n",
       "      <td>622.19</td>\n",
       "      <td>986</td>\n",
       "      <td>6850</td>\n",
       "      <td>5817</td>\n",
       "      <td>255</td>\n",
       "      <td>-0.086315</td>\n",
       "      <td>-0.219788</td>\n",
       "    </tr>\n",
       "    <tr>\n",
       "      <td>...</td>\n",
       "      <td>...</td>\n",
       "      <td>...</td>\n",
       "      <td>...</td>\n",
       "      <td>...</td>\n",
       "      <td>...</td>\n",
       "      <td>...</td>\n",
       "      <td>...</td>\n",
       "      <td>...</td>\n",
       "      <td>...</td>\n",
       "      <td>...</td>\n",
       "      <td>...</td>\n",
       "    </tr>\n",
       "    <tr>\n",
       "      <td>299499</td>\n",
       "      <td>119983</td>\n",
       "      <td>39</td>\n",
       "      <td>173320.0</td>\n",
       "      <td>142285</td>\n",
       "      <td>254.99</td>\n",
       "      <td>54238</td>\n",
       "      <td>3348</td>\n",
       "      <td>6580</td>\n",
       "      <td>380</td>\n",
       "      <td>0.076071</td>\n",
       "      <td>0.795334</td>\n",
       "    </tr>\n",
       "    <tr>\n",
       "      <td>1348810</td>\n",
       "      <td>28311</td>\n",
       "      <td>36</td>\n",
       "      <td>132834.0</td>\n",
       "      <td>48337</td>\n",
       "      <td>365.84</td>\n",
       "      <td>44859</td>\n",
       "      <td>6203</td>\n",
       "      <td>379</td>\n",
       "      <td>247</td>\n",
       "      <td>0.051073</td>\n",
       "      <td>1.426497</td>\n",
       "    </tr>\n",
       "    <tr>\n",
       "      <td>104296</td>\n",
       "      <td>97459</td>\n",
       "      <td>6</td>\n",
       "      <td>203056.0</td>\n",
       "      <td>129967</td>\n",
       "      <td>318.82</td>\n",
       "      <td>73528</td>\n",
       "      <td>6716</td>\n",
       "      <td>3647</td>\n",
       "      <td>349</td>\n",
       "      <td>-0.083417</td>\n",
       "      <td>-0.200314</td>\n",
       "    </tr>\n",
       "    <tr>\n",
       "      <td>384088</td>\n",
       "      <td>129456</td>\n",
       "      <td>45</td>\n",
       "      <td>194012.0</td>\n",
       "      <td>184447</td>\n",
       "      <td>108.65</td>\n",
       "      <td>34722</td>\n",
       "      <td>6716</td>\n",
       "      <td>5820</td>\n",
       "      <td>257</td>\n",
       "      <td>-0.086315</td>\n",
       "      <td>-0.219788</td>\n",
       "    </tr>\n",
       "    <tr>\n",
       "      <td>1509426</td>\n",
       "      <td>30345</td>\n",
       "      <td>56</td>\n",
       "      <td>180839.0</td>\n",
       "      <td>204929</td>\n",
       "      <td>978.76</td>\n",
       "      <td>51179</td>\n",
       "      <td>5958</td>\n",
       "      <td>3281</td>\n",
       "      <td>411</td>\n",
       "      <td>6.238542</td>\n",
       "      <td>-0.888104</td>\n",
       "    </tr>\n",
       "  </tbody>\n",
       "</table>\n",
       "<p>1065250 rows × 11 columns</p>\n",
       "</div>"
      ],
      "text/plain": [
       "          bacno  locdt     loctm    cano    conam  mchno  acqic  scity  mcc  \\\n",
       "969356   117197      3  214719.0  196204   205.78  55807   3221   6580  288   \n",
       "605537    98573     38  123130.0   26897  1061.92  60275   6716   5803  247   \n",
       "587809    33759     87  202421.0  192930   490.68  78362   6032   5817  291   \n",
       "284094    75755     46  203346.0  138226   393.39  62101   6716   5803  306   \n",
       "380450    44117     23  153521.0  128943   622.19    986   6850   5817  255   \n",
       "...         ...    ...       ...     ...      ...    ...    ...    ...  ...   \n",
       "299499   119983     39  173320.0  142285   254.99  54238   3348   6580  380   \n",
       "1348810   28311     36  132834.0   48337   365.84  44859   6203    379  247   \n",
       "104296    97459      6  203056.0  129967   318.82  73528   6716   3647  349   \n",
       "384088   129456     45  194012.0  184447   108.65  34722   6716   5820  257   \n",
       "1509426   30345     56  180839.0  204929   978.76  51179   5958   3281  411   \n",
       "\n",
       "                0         1  \n",
       "969356   0.064410  1.263980  \n",
       "605537  -0.083417 -0.200314  \n",
       "587809  -0.086315 -0.219788  \n",
       "284094  -0.086315 -0.219788  \n",
       "380450  -0.086315 -0.219788  \n",
       "...           ...       ...  \n",
       "299499   0.076071  0.795334  \n",
       "1348810  0.051073  1.426497  \n",
       "104296  -0.083417 -0.200314  \n",
       "384088  -0.086315 -0.219788  \n",
       "1509426  6.238542 -0.888104  \n",
       "\n",
       "[1065250 rows x 11 columns]"
      ]
     },
     "execution_count": 65,
     "metadata": {},
     "output_type": "execute_result"
    }
   ],
   "source": [
    "X_train"
   ]
  },
  {
   "cell_type": "code",
   "execution_count": null,
   "metadata": {},
   "outputs": [],
   "source": []
  }
 ],
 "metadata": {
  "kernelspec": {
   "display_name": "Python 3",
   "language": "python",
   "name": "python3"
  },
  "language_info": {
   "codemirror_mode": {
    "name": "ipython",
    "version": 3
   },
   "file_extension": ".py",
   "mimetype": "text/x-python",
   "name": "python",
   "nbconvert_exporter": "python",
   "pygments_lexer": "ipython3",
   "version": "3.6.1"
  }
 },
 "nbformat": 4,
 "nbformat_minor": 2
}
